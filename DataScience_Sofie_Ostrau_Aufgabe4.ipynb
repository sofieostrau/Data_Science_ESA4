{
  "nbformat": 4,
  "nbformat_minor": 0,
  "metadata": {
    "colab": {
      "name": "DataScience_Sofie_Ostrau_Aufgabe4.ipynb",
      "provenance": [],
      "collapsed_sections": [],
      "authorship_tag": "ABX9TyM3ab0rL02kpMojxLMM5Yiv",
      "include_colab_link": true
    },
    "kernelspec": {
      "name": "python3",
      "display_name": "Python 3"
    },
    "language_info": {
      "name": "python"
    }
  },
  "cells": [
    {
      "cell_type": "markdown",
      "metadata": {
        "id": "view-in-github",
        "colab_type": "text"
      },
      "source": [
        "<a href=\"https://colab.research.google.com/github/sofieostrau/Data_Science_ESA4/blob/main/DataScience_Sofie_Ostrau_Aufgabe4.ipynb\" target=\"_parent\"><img src=\"https://colab.research.google.com/assets/colab-badge.svg\" alt=\"Open In Colab\"/></a>"
      ]
    },
    {
      "cell_type": "markdown",
      "metadata": {
        "id": "1bTDbCFobKda"
      },
      "source": [
        "Hier ist der Beginn meines Codes"
      ]
    },
    {
      "cell_type": "markdown",
      "metadata": {
        "id": "mmwFAy7DhllS"
      },
      "source": [
        "# Aufgabe 1: Jupiternotebook ausprobieren"
      ]
    },
    {
      "cell_type": "markdown",
      "metadata": {
        "id": "ymI-19NtqS1Z"
      },
      "source": [
        "Für diese Aufgabe habe ich mich anhand einiger Beispiele aus dem Script orientiert."
      ]
    },
    {
      "cell_type": "code",
      "metadata": {
        "colab": {
          "base_uri": "https://localhost:8080/"
        },
        "id": "JY0nVujHWyPc",
        "outputId": "016f3915-f565-4660-c1e8-85893d876d3c"
      },
      "source": [
        "\n",
        "\n",
        "print(\"Hallo Datascientists\")\n"
      ],
      "execution_count": null,
      "outputs": [
        {
          "output_type": "stream",
          "text": [
            "Hallo Datascientists\n"
          ],
          "name": "stdout"
        }
      ]
    },
    {
      "cell_type": "markdown",
      "metadata": {
        "id": "4mvcj-_oa6LQ"
      },
      "source": [
        "Hier kommen weitere **Codebeispiele**\n"
      ]
    },
    {
      "cell_type": "code",
      "metadata": {
        "colab": {
          "base_uri": "https://localhost:8080/"
        },
        "id": "Co_ooDQTbBuB",
        "outputId": "b681915d-13a8-461d-ce06-ecec14bd7f34"
      },
      "source": [
        "count= 123+28\n",
        "print(count)"
      ],
      "execution_count": null,
      "outputs": [
        {
          "output_type": "stream",
          "text": [
            "151\n"
          ],
          "name": "stdout"
        }
      ]
    },
    {
      "cell_type": "code",
      "metadata": {
        "colab": {
          "base_uri": "https://localhost:8080/"
        },
        "id": "G2sEJHXCb278",
        "outputId": "3cb00976-7413-423a-899b-c8ca5d98f730"
      },
      "source": [
        "i =1\n",
        "while i<8:\n",
        "  print(i)\n",
        "  i+=1"
      ],
      "execution_count": null,
      "outputs": [
        {
          "output_type": "stream",
          "text": [
            "1\n",
            "2\n",
            "3\n",
            "4\n",
            "5\n",
            "6\n",
            "7\n"
          ],
          "name": "stdout"
        }
      ]
    },
    {
      "cell_type": "code",
      "metadata": {
        "colab": {
          "base_uri": "https://localhost:8080/"
        },
        "id": "oKuulYN9cZFp",
        "outputId": "00075dd1-5265-4518-d568-3f547054e113"
      },
      "source": [
        "string=\"Datascience\"\n",
        "print(string[0])\n",
        "print(string[3:5])\n"
      ],
      "execution_count": null,
      "outputs": [
        {
          "output_type": "stream",
          "text": [
            "D\n",
            "as\n"
          ],
          "name": "stdout"
        }
      ]
    },
    {
      "cell_type": "code",
      "metadata": {
        "colab": {
          "base_uri": "https://localhost:8080/"
        },
        "id": "MRtreSxQdENT",
        "outputId": "8ff6c86a-5cf7-4ddc-cd4f-a8ca3ee9a379"
      },
      "source": [
        "tiere = [\"Katze\", \"Vogel\", \"Hund\", \"Maus\"]\n",
        "wert_tiere=tiere[0]\n",
        "print(wert_tiere)\n",
        "länge=len(tiere)\n",
        "print(länge)"
      ],
      "execution_count": null,
      "outputs": [
        {
          "output_type": "stream",
          "text": [
            "Katze\n",
            "4\n"
          ],
          "name": "stdout"
        }
      ]
    },
    {
      "cell_type": "markdown",
      "metadata": {
        "id": "i3xytXgfhaXw"
      },
      "source": [
        "# Aufgabe 2: 101 Numpy Exercises"
      ]
    },
    {
      "cell_type": "markdown",
      "metadata": {
        "id": "OIUoyfNPp3Ww"
      },
      "source": [
        "Für diese Aufgabe habe ich zunächst die Aufgabe gelesen und versucht diese selbst zu lösen. Anschließend habe ich mir die Lösungen angeschaut und versucht diese nachzuvollziehen. "
      ]
    },
    {
      "cell_type": "code",
      "metadata": {
        "colab": {
          "base_uri": "https://localhost:8080/"
        },
        "id": "LZKCqC1fhuju",
        "outputId": "1f61f383-14de-4c64-8c9f-7db05064077c"
      },
      "source": [
        "#Aufgabe 1\n",
        "import numpy as np \n",
        "print(np.__version__)"
      ],
      "execution_count": null,
      "outputs": [
        {
          "output_type": "stream",
          "text": [
            "1.19.5\n"
          ],
          "name": "stdout"
        }
      ]
    },
    {
      "cell_type": "code",
      "metadata": {
        "colab": {
          "base_uri": "https://localhost:8080/"
        },
        "id": "fY6lXbKZinsi",
        "outputId": "098406cc-402c-44a1-ac2a-7b0b6438b69f"
      },
      "source": [
        "#Aufgabe 2\n",
        "array = np.array([0,1,2,3,4,5,6,7,8,9]) \n",
        "print(array)"
      ],
      "execution_count": null,
      "outputs": [
        {
          "output_type": "stream",
          "text": [
            "[0 1 2 3 4 5 6 7 8 9]\n"
          ],
          "name": "stdout"
        }
      ]
    },
    {
      "cell_type": "code",
      "metadata": {
        "colab": {
          "base_uri": "https://localhost:8080/"
        },
        "id": "KShO-SzbjMR6",
        "outputId": "295c6c65-fe7e-41b0-e664-6f03e6399ce9"
      },
      "source": [
        "#Aufgabe 3\n",
        "np.ones((3,3), dtype=bool) \n",
        "\n"
      ],
      "execution_count": null,
      "outputs": [
        {
          "output_type": "execute_result",
          "data": {
            "text/plain": [
              "array([[ True,  True,  True],\n",
              "       [ True,  True,  True],\n",
              "       [ True,  True,  True]])"
            ]
          },
          "metadata": {
            "tags": []
          },
          "execution_count": 37
        }
      ]
    },
    {
      "cell_type": "code",
      "metadata": {
        "colab": {
          "base_uri": "https://localhost:8080/",
          "height": 130
        },
        "id": "P_3-k0yrmEB3",
        "outputId": "035e349b-f049-44b5-9aa3-9824e4b6aeac"
      },
      "source": [
        "#Aufgabe 4, funktioniert nicht ganz\n",
        "array = np.array([0,1,2,3,4,5,6,7,8,9]) \n",
        "if array%2==1\n",
        "    print(array)\n",
        "\n"
      ],
      "execution_count": null,
      "outputs": [
        {
          "output_type": "error",
          "ename": "SyntaxError",
          "evalue": "ignored",
          "traceback": [
            "\u001b[0;36m  File \u001b[0;32m\"<ipython-input-39-95b3657a223f>\"\u001b[0;36m, line \u001b[0;32m2\u001b[0m\n\u001b[0;31m    if array%2==1{\u001b[0m\n\u001b[0m                 ^\u001b[0m\n\u001b[0;31mSyntaxError\u001b[0m\u001b[0;31m:\u001b[0m invalid syntax\n"
          ]
        }
      ]
    },
    {
      "cell_type": "code",
      "metadata": {
        "colab": {
          "base_uri": "https://localhost:8080/"
        },
        "id": "oOpNCcl5nrYD",
        "outputId": "5311f4c0-4c87-4c0b-baef-1c49453aba5b"
      },
      "source": [
        " #Aufgabe 5\n",
        "array = np.where(array%2, -1, array)\n",
        "print(array)"
      ],
      "execution_count": null,
      "outputs": [
        {
          "output_type": "stream",
          "text": [
            "[ 0 -1  2 -1  4 -1  6 -1  8 -1]\n"
          ],
          "name": "stdout"
        }
      ]
    },
    {
      "cell_type": "code",
      "metadata": {
        "colab": {
          "base_uri": "https://localhost:8080/"
        },
        "id": "3fDvX_Lf5wAW",
        "outputId": "8a148ada-970d-499e-e440-c625cc6f2f2c"
      },
      "source": [
        "#Aufgabe 6\n",
        "mein_array = np.array([0,1,2,3,4,5,6,7,8,9]) \n",
        "neues_array = np.where(mein_array %2==1,-1,mein_array)\n",
        "print(neues_array)\n"
      ],
      "execution_count": null,
      "outputs": [
        {
          "output_type": "stream",
          "text": [
            "[ 0 -1  2 -1  4 -1  6 -1  8 -1]\n"
          ],
          "name": "stdout"
        }
      ]
    },
    {
      "cell_type": "code",
      "metadata": {
        "colab": {
          "base_uri": "https://localhost:8080/"
        },
        "id": "N0X_pZzg5_oz",
        "outputId": "c675e47e-914a-4ad3-c901-b00413c27b7a"
      },
      "source": [
        "#Aufgabe 7\n",
        "np.reshape(array,(2,5))\n",
        "\n"
      ],
      "execution_count": null,
      "outputs": [
        {
          "output_type": "execute_result",
          "data": {
            "text/plain": [
              "array([[ 0, -1,  2, -1,  4],\n",
              "       [-1,  6, -1,  8, -1]])"
            ]
          },
          "metadata": {
            "tags": []
          },
          "execution_count": 45
        }
      ]
    },
    {
      "cell_type": "code",
      "metadata": {
        "colab": {
          "base_uri": "https://localhost:8080/"
        },
        "id": "w7hdiuDW7s73",
        "outputId": "8fbf6e57-0961-4bf0-89a9-2fc0b72cc360"
      },
      "source": [
        "#Aufgabe 8\n",
        "array_a = np.arange(10).reshape(2,-1)\n",
        "array_b = np.repeat(1, 10).reshape(2,-1)\n",
        "print(array_a)\n",
        "print(array_b)\n",
        "np.vstack((array_a,array_b))\n"
      ],
      "execution_count": null,
      "outputs": [
        {
          "output_type": "stream",
          "text": [
            "[[0 1 2 3 4]\n",
            " [5 6 7 8 9]]\n",
            "[[1 1 1 1 1]\n",
            " [1 1 1 1 1]]\n"
          ],
          "name": "stdout"
        },
        {
          "output_type": "execute_result",
          "data": {
            "text/plain": [
              "array([[0, 1, 2, 3, 4],\n",
              "       [5, 6, 7, 8, 9],\n",
              "       [1, 1, 1, 1, 1],\n",
              "       [1, 1, 1, 1, 1]])"
            ]
          },
          "metadata": {
            "tags": []
          },
          "execution_count": 56
        }
      ]
    },
    {
      "cell_type": "code",
      "metadata": {
        "colab": {
          "base_uri": "https://localhost:8080/"
        },
        "id": "MT1Xfd8n8lVN",
        "outputId": "5d7632e2-c190-4379-878a-2fc0961651da"
      },
      "source": [
        "#Aufgabe 9\n",
        "array_a = np.arange(10).reshape(2,-1)\n",
        "array_b = np.repeat(1, 10).reshape(2,-1)\n",
        "print(array_a)\n",
        "print(array_b)\n",
        "np.hstack((array_a,array_b))"
      ],
      "execution_count": null,
      "outputs": [
        {
          "output_type": "stream",
          "text": [
            "[[0 1 2 3 4]\n",
            " [5 6 7 8 9]]\n",
            "[[1 1 1 1 1]\n",
            " [1 1 1 1 1]]\n"
          ],
          "name": "stdout"
        },
        {
          "output_type": "execute_result",
          "data": {
            "text/plain": [
              "array([[0, 1, 2, 3, 4, 1, 1, 1, 1, 1],\n",
              "       [5, 6, 7, 8, 9, 1, 1, 1, 1, 1]])"
            ]
          },
          "metadata": {
            "tags": []
          },
          "execution_count": 57
        }
      ]
    },
    {
      "cell_type": "code",
      "metadata": {
        "colab": {
          "base_uri": "https://localhost:8080/"
        },
        "id": "pD8HzbPN9Ugn",
        "outputId": "98202a08-fa12-4f6e-b54d-c111427244f5"
      },
      "source": [
        "#Aufgabe 10\n",
        "array_wiederholungen = np.array([1,2,3])\n",
        "print(array_wiederholungen)\n",
        "np.repeat(array_wiederholungen,3)\n",
        "np.tile(array_wiederholungen,(1,3))"
      ],
      "execution_count": null,
      "outputs": [
        {
          "output_type": "stream",
          "text": [
            "[1 2 3]\n"
          ],
          "name": "stdout"
        },
        {
          "output_type": "execute_result",
          "data": {
            "text/plain": [
              "array([[1, 2, 3, 1, 2, 3, 1, 2, 3]])"
            ]
          },
          "metadata": {
            "tags": []
          },
          "execution_count": 63
        }
      ]
    },
    {
      "cell_type": "code",
      "metadata": {
        "colab": {
          "base_uri": "https://localhost:8080/"
        },
        "id": "Fdpamy-N-VcI",
        "outputId": "0e458c60-9117-457f-8918-1e9673287abf"
      },
      "source": [
        "#Aufgabe 11\n",
        "erstes_array = np.array([1,2,3,2,3,4,3,4,5,6])\n",
        "zweites_array = np.array([7,2,10,2,7,4,9,4,9,8])\n",
        "print(np.intersect1d(erstes_array, zweites_array))"
      ],
      "execution_count": null,
      "outputs": [
        {
          "output_type": "stream",
          "text": [
            "[2 4]\n"
          ],
          "name": "stdout"
        }
      ]
    },
    {
      "cell_type": "code",
      "metadata": {
        "colab": {
          "base_uri": "https://localhost:8080/"
        },
        "id": "MmfSodAL_e2h",
        "outputId": "2a678507-6ef9-47ed-e5e5-1c28a0ff202c"
      },
      "source": [
        "#Aufgabe 12\n",
        "a = np.array([1,2,3,4,5])\n",
        "b = np.array([5,6,7,8,9])\n",
        "np.setdiff1d(a, b)\n"
      ],
      "execution_count": null,
      "outputs": [
        {
          "output_type": "execute_result",
          "data": {
            "text/plain": [
              "array([1, 2, 3, 4])"
            ]
          },
          "metadata": {
            "tags": []
          },
          "execution_count": 65
        }
      ]
    },
    {
      "cell_type": "code",
      "metadata": {
        "colab": {
          "base_uri": "https://localhost:8080/"
        },
        "id": "-w5bYD-V_qNC",
        "outputId": "11fbaea3-8bd8-4cb6-e57b-7b0c1a6b11d3"
      },
      "source": [
        "#Aufgabe 13\n",
        "array1 = np.array([1,2,3,2,3,4,3,4,5,6])\n",
        "array2 = np.array([7,2,10,2,7,4,9,4,9,8])\n",
        "np.where(array1==array2)"
      ],
      "execution_count": null,
      "outputs": [
        {
          "output_type": "execute_result",
          "data": {
            "text/plain": [
              "(array([1, 3, 5, 7]),)"
            ]
          },
          "metadata": {
            "tags": []
          },
          "execution_count": 68
        }
      ]
    },
    {
      "cell_type": "code",
      "metadata": {
        "colab": {
          "base_uri": "https://localhost:8080/"
        },
        "id": "xMphjZ7w_sdU",
        "outputId": "0299e9a5-8ddc-44d2-cebe-52ff2e5d511d"
      },
      "source": [
        "#Aufgabe 14\n",
        "neuesarray = np.array([2, 6, 1, 9, 10, 3, 27])\n",
        "#print(\"Values bigger than 10 =\", neuesarray[neuesarray<5 && neunesarray>10])\n",
        "newArr = neuesarray[(neuesarray > 5) & (neuesarray <= 10)]\n",
        "print(newArr)"
      ],
      "execution_count": null,
      "outputs": [
        {
          "output_type": "stream",
          "text": [
            "[ 6  9 10]\n"
          ],
          "name": "stdout"
        }
      ]
    },
    {
      "cell_type": "code",
      "metadata": {
        "colab": {
          "base_uri": "https://localhost:8080/",
          "height": 317
        },
        "id": "s0xJ-ZuW_tkV",
        "outputId": "656410ea-3674-4129-9437-ee8d54bf43d9"
      },
      "source": [
        "#Aufgabe 15, funktioniert nicht ganz\n",
        "def maxx(x, y):\n",
        "    \"\"\"Get the maximum of two items\"\"\"\n",
        "    if x >= y:\n",
        "        return x\n",
        "    else:\n",
        "        return y\n",
        "\n",
        "maxx(1, 5)\n",
        "\n",
        "def pair_maxx(a, b):\n",
        "    \"\"\"Get the maximum of two items\"\"\"\n",
        "    a = np.array([5, 7, 9, 8, 6, 4, 5])\n",
        "    b = np.array([6, 3, 4, 8, 9, 7, 1])\n",
        "    if a >= b:\n",
        "        return a\n",
        "    else:\n",
        "        return b\n",
        "pair_maxx(a, b)"
      ],
      "execution_count": null,
      "outputs": [
        {
          "output_type": "error",
          "ename": "ValueError",
          "evalue": "ignored",
          "traceback": [
            "\u001b[0;31m---------------------------------------------------------------------------\u001b[0m",
            "\u001b[0;31mValueError\u001b[0m                                Traceback (most recent call last)",
            "\u001b[0;32m<ipython-input-76-a8441df4d6df>\u001b[0m in \u001b[0;36m<module>\u001b[0;34m()\u001b[0m\n\u001b[1;32m     17\u001b[0m     \u001b[0;32melse\u001b[0m\u001b[0;34m:\u001b[0m\u001b[0;34m\u001b[0m\u001b[0;34m\u001b[0m\u001b[0m\n\u001b[1;32m     18\u001b[0m         \u001b[0;32mreturn\u001b[0m \u001b[0mb\u001b[0m\u001b[0;34m\u001b[0m\u001b[0;34m\u001b[0m\u001b[0m\n\u001b[0;32m---> 19\u001b[0;31m \u001b[0mpair_maxx\u001b[0m\u001b[0;34m(\u001b[0m\u001b[0ma\u001b[0m\u001b[0;34m,\u001b[0m \u001b[0mb\u001b[0m\u001b[0;34m)\u001b[0m\u001b[0;34m\u001b[0m\u001b[0;34m\u001b[0m\u001b[0m\n\u001b[0m",
            "\u001b[0;32m<ipython-input-76-a8441df4d6df>\u001b[0m in \u001b[0;36mpair_maxx\u001b[0;34m(a, b)\u001b[0m\n\u001b[1;32m     13\u001b[0m     \u001b[0ma\u001b[0m \u001b[0;34m=\u001b[0m \u001b[0mnp\u001b[0m\u001b[0;34m.\u001b[0m\u001b[0marray\u001b[0m\u001b[0;34m(\u001b[0m\u001b[0;34m[\u001b[0m\u001b[0;36m5\u001b[0m\u001b[0;34m,\u001b[0m \u001b[0;36m7\u001b[0m\u001b[0;34m,\u001b[0m \u001b[0;36m9\u001b[0m\u001b[0;34m,\u001b[0m \u001b[0;36m8\u001b[0m\u001b[0;34m,\u001b[0m \u001b[0;36m6\u001b[0m\u001b[0;34m,\u001b[0m \u001b[0;36m4\u001b[0m\u001b[0;34m,\u001b[0m \u001b[0;36m5\u001b[0m\u001b[0;34m]\u001b[0m\u001b[0;34m)\u001b[0m\u001b[0;34m\u001b[0m\u001b[0;34m\u001b[0m\u001b[0m\n\u001b[1;32m     14\u001b[0m     \u001b[0mb\u001b[0m \u001b[0;34m=\u001b[0m \u001b[0mnp\u001b[0m\u001b[0;34m.\u001b[0m\u001b[0marray\u001b[0m\u001b[0;34m(\u001b[0m\u001b[0;34m[\u001b[0m\u001b[0;36m6\u001b[0m\u001b[0;34m,\u001b[0m \u001b[0;36m3\u001b[0m\u001b[0;34m,\u001b[0m \u001b[0;36m4\u001b[0m\u001b[0;34m,\u001b[0m \u001b[0;36m8\u001b[0m\u001b[0;34m,\u001b[0m \u001b[0;36m9\u001b[0m\u001b[0;34m,\u001b[0m \u001b[0;36m7\u001b[0m\u001b[0;34m,\u001b[0m \u001b[0;36m1\u001b[0m\u001b[0;34m]\u001b[0m\u001b[0;34m)\u001b[0m\u001b[0;34m\u001b[0m\u001b[0;34m\u001b[0m\u001b[0m\n\u001b[0;32m---> 15\u001b[0;31m     \u001b[0;32mif\u001b[0m \u001b[0mb\u001b[0m \u001b[0;34m<=\u001b[0m \u001b[0ma\u001b[0m\u001b[0;34m:\u001b[0m\u001b[0;34m\u001b[0m\u001b[0;34m\u001b[0m\u001b[0m\n\u001b[0m\u001b[1;32m     16\u001b[0m         \u001b[0;32mreturn\u001b[0m \u001b[0ma\u001b[0m\u001b[0;34m\u001b[0m\u001b[0;34m\u001b[0m\u001b[0m\n\u001b[1;32m     17\u001b[0m     \u001b[0;32melse\u001b[0m\u001b[0;34m:\u001b[0m\u001b[0;34m\u001b[0m\u001b[0;34m\u001b[0m\u001b[0m\n",
            "\u001b[0;31mValueError\u001b[0m: The truth value of an array with more than one element is ambiguous. Use a.any() or a.all()"
          ]
        }
      ]
    },
    {
      "cell_type": "code",
      "metadata": {
        "colab": {
          "base_uri": "https://localhost:8080/"
        },
        "id": "vPghcv1d_uyU",
        "outputId": "8dcc352f-85de-4cda-8ef0-0893f7af4f8a"
      },
      "source": [
        "#Aufgabe 16, funktioniert nicht ganz\n",
        "\n",
        "arrchange = np.arange(9).reshape(3,3)\n",
        "print(arrchange)\n",
        "arrchange[0, 1] = arrchange[1, 0]\n",
        "print(arrchange)"
      ],
      "execution_count": null,
      "outputs": [
        {
          "output_type": "stream",
          "text": [
            "[[0 1 2]\n",
            " [3 4 5]\n",
            " [6 7 8]]\n",
            "[[0 3 2]\n",
            " [3 4 5]\n",
            " [6 7 8]]\n"
          ],
          "name": "stdout"
        }
      ]
    },
    {
      "cell_type": "code",
      "metadata": {
        "colab": {
          "base_uri": "https://localhost:8080/"
        },
        "id": "KdFzokf0_xXc",
        "outputId": "360c0a74-7df2-480c-c0e6-22154c5a5b10"
      },
      "source": [
        "einarray = np.arange(9).reshape(3,3)\n",
        "einarray[[1,0,2], :]\n",
        "print(einarray)"
      ],
      "execution_count": null,
      "outputs": [
        {
          "output_type": "stream",
          "text": [
            "[[0 1 2]\n",
            " [3 4 5]\n",
            " [6 7 8]]\n"
          ],
          "name": "stdout"
        }
      ]
    },
    {
      "cell_type": "code",
      "metadata": {
        "colab": {
          "base_uri": "https://localhost:8080/"
        },
        "id": "HY1Urxyj_yeC",
        "outputId": "5f36cf8b-a2f6-4f57-cb9d-4b64b08badc4"
      },
      "source": [
        "#Aufgabe 18\n",
        "\n",
        "array_reverse = np.arange(9).reshape(3,3)\n",
        "array_reverse[ : :-1]\n",
        "\n",
        "\n"
      ],
      "execution_count": null,
      "outputs": [
        {
          "output_type": "execute_result",
          "data": {
            "text/plain": [
              "array([[6, 7, 8],\n",
              "       [3, 4, 5],\n",
              "       [0, 1, 2]])"
            ]
          },
          "metadata": {
            "tags": []
          },
          "execution_count": 92
        }
      ]
    },
    {
      "cell_type": "code",
      "metadata": {
        "colab": {
          "base_uri": "https://localhost:8080/"
        },
        "id": "ak9kXq0e_zcR",
        "outputId": "cbd2dd38-7d74-4818-8270-048e5e083a15"
      },
      "source": [
        "#Aufgabe 19\n",
        "arr_reverse = np.arange(9).reshape(3,3)\n",
        "arr_reverse[:, ::-1]"
      ],
      "execution_count": null,
      "outputs": [
        {
          "output_type": "execute_result",
          "data": {
            "text/plain": [
              "array([[2, 1, 0],\n",
              "       [5, 4, 3],\n",
              "       [8, 7, 6]])"
            ]
          },
          "metadata": {
            "tags": []
          },
          "execution_count": 93
        }
      ]
    },
    {
      "cell_type": "code",
      "metadata": {
        "colab": {
          "base_uri": "https://localhost:8080/"
        },
        "id": "65pXWB2d_0Zi",
        "outputId": "c4fa67d8-09f0-407d-f338-f932f95505d0"
      },
      "source": [
        "#Aufgabe 20\n",
        "einArray = np.arange(9).reshape(3,3)\n",
        "randomarray = np.random.uniform(5,10, size=(5,3))\n",
        "print(randomarray)"
      ],
      "execution_count": null,
      "outputs": [
        {
          "output_type": "stream",
          "text": [
            "[[8.18464832 5.16353871 5.59671305]\n",
            " [5.4341549  9.48480153 8.54802998]\n",
            " [6.15213092 9.02637269 7.98126998]\n",
            " [5.70380578 8.65980984 7.9464703 ]\n",
            " [7.1536051  6.71702409 9.39265289]]\n"
          ],
          "name": "stdout"
        }
      ]
    },
    {
      "cell_type": "code",
      "metadata": {
        "id": "tNO7jPHx_1oT",
        "colab": {
          "base_uri": "https://localhost:8080/"
        },
        "outputId": "803aa5e3-1656-4ca8-f8b5-313da89143e0"
      },
      "source": [
        "#Aufgabe 21\n",
        "random_decimal_array = np.random.random((5,3))\n",
        "np.set_printoptions(precision=3)\n",
        "print(random_decimal_array)"
      ],
      "execution_count": null,
      "outputs": [
        {
          "output_type": "stream",
          "text": [
            "[[0.616 0.713 0.363]\n",
            " [0.512 0.463 0.341]\n",
            " [0.301 0.904 0.981]\n",
            " [0.966 0.773 0.452]\n",
            " [0.37  0.466 0.285]]\n"
          ],
          "name": "stdout"
        }
      ]
    },
    {
      "cell_type": "code",
      "metadata": {
        "id": "Ocg7Bx8N_27H",
        "colab": {
          "base_uri": "https://localhost:8080/"
        },
        "outputId": "88184c62-d072-4422-d4cf-5bb8179c9b54"
      },
      "source": [
        "#Aufgabe 22\n",
        "np.random.seed(100)\n",
        "rand_arr = np.random.random([3,3])/1e3\n",
        "print(rand_arr)\n",
        "#np.set_printoptions(suppress=True)\n",
        "np.set_printoptions(suppress=False)\n",
        "print(rand_arr)"
      ],
      "execution_count": null,
      "outputs": [
        {
          "output_type": "stream",
          "text": [
            "[[0.001 0.    0.   ]\n",
            " [0.001 0.    0.   ]\n",
            " [0.001 0.001 0.   ]]\n",
            "[[5.434e-04 2.784e-04 4.245e-04]\n",
            " [8.448e-04 4.719e-06 1.216e-04]\n",
            " [6.707e-04 8.259e-04 1.367e-04]]\n"
          ],
          "name": "stdout"
        }
      ]
    },
    {
      "cell_type": "code",
      "metadata": {
        "colab": {
          "base_uri": "https://localhost:8080/"
        },
        "id": "QSuJHBMv_37o",
        "outputId": "8a7d92be-efec-4542-db25-b732987c3ddf"
      },
      "source": [
        "#Aufgabe 23 muss nochmal genauer verstanden werden\n",
        "a_limit = np.arange(15)\n",
        "#np.clip(a_limit, 1, 6)\n",
        "np.set_printoptions(threshold=6)\n",
        "print(a_limit)"
      ],
      "execution_count": null,
      "outputs": [
        {
          "output_type": "stream",
          "text": [
            "[ 0  1  2 ... 12 13 14]\n"
          ],
          "name": "stdout"
        }
      ]
    },
    {
      "cell_type": "code",
      "metadata": {
        "id": "AZii7URW_5EE",
        "colab": {
          "base_uri": "https://localhost:8080/",
          "height": 334
        },
        "outputId": "22c84ef8-3d58-4f13-cf8c-2a700dd42c5a"
      },
      "source": [
        "#Aufgabe 24, funktioniert nicht ganz\n",
        "another_limit = np.arange(15)\n",
        "np.set_printoptions(threshold=6)\n",
        "np.set_printoptions(threshold=np.non-nan)\n",
        "print(another_limit)"
      ],
      "execution_count": null,
      "outputs": [
        {
          "output_type": "error",
          "ename": "AttributeError",
          "evalue": "ignored",
          "traceback": [
            "\u001b[0;31m---------------------------------------------------------------------------\u001b[0m",
            "\u001b[0;31mAttributeError\u001b[0m                            Traceback (most recent call last)",
            "\u001b[0;32m<ipython-input-25-111267bbbee0>\u001b[0m in \u001b[0;36m<module>\u001b[0;34m()\u001b[0m\n\u001b[1;32m      2\u001b[0m \u001b[0manother_limit\u001b[0m \u001b[0;34m=\u001b[0m \u001b[0mnp\u001b[0m\u001b[0;34m.\u001b[0m\u001b[0marange\u001b[0m\u001b[0;34m(\u001b[0m\u001b[0;36m15\u001b[0m\u001b[0;34m)\u001b[0m\u001b[0;34m\u001b[0m\u001b[0;34m\u001b[0m\u001b[0m\n\u001b[1;32m      3\u001b[0m \u001b[0mnp\u001b[0m\u001b[0;34m.\u001b[0m\u001b[0mset_printoptions\u001b[0m\u001b[0;34m(\u001b[0m\u001b[0mthreshold\u001b[0m\u001b[0;34m=\u001b[0m\u001b[0;36m6\u001b[0m\u001b[0;34m)\u001b[0m\u001b[0;34m\u001b[0m\u001b[0;34m\u001b[0m\u001b[0m\n\u001b[0;32m----> 4\u001b[0;31m \u001b[0mnp\u001b[0m\u001b[0;34m.\u001b[0m\u001b[0mset_printoptions\u001b[0m\u001b[0;34m(\u001b[0m\u001b[0mthreshold\u001b[0m\u001b[0;34m=\u001b[0m\u001b[0mnp\u001b[0m\u001b[0;34m.\u001b[0m\u001b[0mnon\u001b[0m\u001b[0;34m-\u001b[0m\u001b[0mnan\u001b[0m\u001b[0;34m)\u001b[0m\u001b[0;34m\u001b[0m\u001b[0;34m\u001b[0m\u001b[0m\n\u001b[0m\u001b[1;32m      5\u001b[0m \u001b[0mprint\u001b[0m\u001b[0;34m(\u001b[0m\u001b[0manother_limit\u001b[0m\u001b[0;34m)\u001b[0m\u001b[0;34m\u001b[0m\u001b[0;34m\u001b[0m\u001b[0m\n",
            "\u001b[0;32m/usr/local/lib/python3.7/dist-packages/numpy/__init__.py\u001b[0m in \u001b[0;36m__getattr__\u001b[0;34m(attr)\u001b[0m\n\u001b[1;32m    213\u001b[0m             \u001b[0;32melse\u001b[0m\u001b[0;34m:\u001b[0m\u001b[0;34m\u001b[0m\u001b[0;34m\u001b[0m\u001b[0m\n\u001b[1;32m    214\u001b[0m                 raise AttributeError(\"module {!r} has no attribute \"\n\u001b[0;32m--> 215\u001b[0;31m                                      \"{!r}\".format(__name__, attr))\n\u001b[0m\u001b[1;32m    216\u001b[0m \u001b[0;34m\u001b[0m\u001b[0m\n\u001b[1;32m    217\u001b[0m         \u001b[0;32mdef\u001b[0m \u001b[0m__dir__\u001b[0m\u001b[0;34m(\u001b[0m\u001b[0;34m)\u001b[0m\u001b[0;34m:\u001b[0m\u001b[0;34m\u001b[0m\u001b[0;34m\u001b[0m\u001b[0m\n",
            "\u001b[0;31mAttributeError\u001b[0m: module 'numpy' has no attribute 'non'"
          ]
        }
      ]
    },
    {
      "cell_type": "code",
      "metadata": {
        "colab": {
          "base_uri": "https://localhost:8080/"
        },
        "id": "hkPnJ0-J_6E6",
        "outputId": "e2be7084-8c00-4f20-c81f-075f8251cde9"
      },
      "source": [
        "#Aufgabe 25\n",
        "\n",
        "url = 'https://archive.ics.uci.edu/ml/machine-learning-databases/iris/iris.data'\n",
        "iris = np.genfromtxt(url, delimiter=',', dtype='object')\n",
        "namen = ('sepallength', 'sepalwidth', 'petallength', 'petalwidth', 'species')\n",
        "\n",
        "# Print the first 3 rows\n",
        "iris[:3]\n",
        "#> array([[b'5.1', b'3.5', b'1.4', b'0.2', b'Iris-setosa'],\n",
        "#>        [b'4.9', b'3.0', b'1.4', b'0.2', b'Iris-setosa'],\n",
        "#>        [b'4.7', b'3.2', b'1.3', b'0.2', b'Iris-setosa']], dtype=object)"
      ],
      "execution_count": null,
      "outputs": [
        {
          "output_type": "execute_result",
          "data": {
            "text/plain": [
              "array([[b'5.1', b'3.5', b'1.4', b'0.2', b'Iris-setosa'],\n",
              "       [b'4.9', b'3.0', b'1.4', b'0.2', b'Iris-setosa'],\n",
              "       [b'4.7', b'3.2', b'1.3', b'0.2', b'Iris-setosa']], dtype=object)"
            ]
          },
          "metadata": {
            "tags": []
          },
          "execution_count": 32
        }
      ]
    },
    {
      "cell_type": "markdown",
      "metadata": {
        "id": "bf4YllIwpWTk"
      },
      "source": [
        "# Aufgabe 3: Do the following exercise in a Jupyter Notebook"
      ]
    },
    {
      "cell_type": "code",
      "metadata": {
        "colab": {
          "base_uri": "https://localhost:8080/"
        },
        "id": "YdiX9BPdpfN6",
        "outputId": "cc03a7c4-e107-42f6-ce17-6d6f8e94051c"
      },
      "source": [
        "import pandas as pd\n",
        "\n",
        "url = \"https://raw.githubusercontent.com/edlich/eternalrepo/master/DS-WAHLFACH/countries.csv\"\n",
        "df = pd.read_csv(url)\n",
        "print(\"Originler Datensatz\")\n",
        "print (df)\n",
        "\n",
        "#Show last 4 rows\n",
        "print(\"Letzte 4 Reihen\")\n",
        "\n",
        "print(df.tail(4))\n",
        "\n",
        "#Show all the row of countries who have the EURO\n",
        "print(\"Alle EURO-Länder\")\n",
        "print(df[df['Currency']== 'EUR'])\n",
        "\n",
        "#Show only name and Currency in a new data frame\n",
        "print(\"Nur Name und Währung\")\n",
        "print(df[['Name', 'Currency']])\n",
        "\n",
        "#Show only the rows/countries that have more than 2000 BIP \n",
        "print(\"BIP größer als 2000\")\n",
        "bruttoinlands= df[df[\"BIP\"] > 2000]\n",
        "print(bruttoinlands)\n",
        "\n",
        "#Select all countries where with inhabitants between 50 and 150 Mio\n",
        "print(\"Einwohner zwischen 50 und 150 Mio\")\n",
        "print(df[df[\"People\"].between(50000000, 150000000)])\n",
        "\n",
        "#Change BIP to Bip\n",
        "print(\"Neue Schreibweise\")\n",
        "print(df.rename(columns={\"BIP\" : \"bip\"}))\n",
        "\n",
        "#Sum of Bip\n",
        "print(\"Summe aller bip\")\n",
        "summe= df['BIP'].sum()\n",
        "print(summe)\n",
        "\n",
        "\n",
        "#Calculate the average people of all countries\n",
        "print(\"Durchschnitt aller Einwohner\")\n",
        "df_mean = df[\"People\"].mean()\n",
        "print(df_mean)\n",
        "\n",
        "#Sort by name alphabetically\n",
        "print(\"Alphabethisch sortieren\")\n",
        "print(df.sort_values(by='Name'))\n",
        "\n",
        "#Create a new Data frame\n",
        "print('Neuer Datensatz')\n",
        "df2 = df.copy()\n",
        "print(df2)\n",
        "df2.loc[df2['Area'] > 1000000] = df2.rename(columns={\"Area\" : \"AREA\"})\n",
        "\n",
        "print(df2)  \n",
        "  \n",
        "\t\n",
        "\n",
        "\n",
        "\n",
        "\n",
        "\n",
        "\n",
        "\n"
      ],
      "execution_count": null,
      "outputs": [
        {
          "output_type": "stream",
          "text": [
            "Originler Datensatz\n",
            "       Name     People     Area   BIP Currency\n",
            "0   Germany   82521653   357385  3466      EUR\n",
            "1     Japan  126045000   377835  4938      YEN\n",
            "2    Canada   36503097  9984670  1529      CAD\n",
            "3     Italy   60501718   301338  1850      EUR\n",
            "4  Brazilia  208360000  8515770  1798     REAL\n",
            "Letzte 4 Reihen\n",
            "       Name     People     Area   BIP Currency\n",
            "1     Japan  126045000   377835  4938      YEN\n",
            "2    Canada   36503097  9984670  1529      CAD\n",
            "3     Italy   60501718   301338  1850      EUR\n",
            "4  Brazilia  208360000  8515770  1798     REAL\n",
            "Alle EURO-Länder\n",
            "      Name    People    Area   BIP Currency\n",
            "0  Germany  82521653  357385  3466      EUR\n",
            "3    Italy  60501718  301338  1850      EUR\n",
            "Nur Name und Währung\n",
            "       Name Currency\n",
            "0   Germany      EUR\n",
            "1     Japan      YEN\n",
            "2    Canada      CAD\n",
            "3     Italy      EUR\n",
            "4  Brazilia     REAL\n",
            "BIP größer als 2000\n",
            "      Name     People    Area   BIP Currency\n",
            "0  Germany   82521653  357385  3466      EUR\n",
            "1    Japan  126045000  377835  4938      YEN\n",
            "Einwohner zwischen 50 und 150 Mio\n",
            "      Name     People    Area   BIP Currency\n",
            "0  Germany   82521653  357385  3466      EUR\n",
            "1    Japan  126045000  377835  4938      YEN\n",
            "3    Italy   60501718  301338  1850      EUR\n",
            "Neue Schreibweise\n",
            "       Name     People     Area   bip Currency\n",
            "0   Germany   82521653   357385  3466      EUR\n",
            "1     Japan  126045000   377835  4938      YEN\n",
            "2    Canada   36503097  9984670  1529      CAD\n",
            "3     Italy   60501718   301338  1850      EUR\n",
            "4  Brazilia  208360000  8515770  1798     REAL\n",
            "Summe aller bip\n",
            "13581\n",
            "Durchschnitt aller Einwohner\n",
            "102786293.6\n",
            "Alphabethisch sortieren\n",
            "       Name     People     Area   BIP Currency\n",
            "4  Brazilia  208360000  8515770  1798     REAL\n",
            "2    Canada   36503097  9984670  1529      CAD\n",
            "0   Germany   82521653   357385  3466      EUR\n",
            "3     Italy   60501718   301338  1850      EUR\n",
            "1     Japan  126045000   377835  4938      YEN\n",
            "Neuer Datensatz\n",
            "       Name     People     Area   BIP Currency\n",
            "0   Germany   82521653   357385  3466      EUR\n",
            "1     Japan  126045000   377835  4938      YEN\n",
            "2    Canada   36503097  9984670  1529      CAD\n",
            "3     Italy   60501718   301338  1850      EUR\n",
            "4  Brazilia  208360000  8515770  1798     REAL\n",
            "       Name     People      Area   BIP Currency\n",
            "0   Germany   82521653  357385.0  3466      EUR\n",
            "1     Japan  126045000  377835.0  4938      YEN\n",
            "2    Canada   36503097       NaN  1529      CAD\n",
            "3     Italy   60501718  301338.0  1850      EUR\n",
            "4  Brazilia  208360000       NaN  1798     REAL\n"
          ],
          "name": "stdout"
        }
      ]
    }
  ]
}